{
 "cells": [
  {
   "cell_type": "code",
   "execution_count": 1,
   "id": "8741a235",
   "metadata": {},
   "outputs": [],
   "source": [
    "import pyspark"
   ]
  },
  {
   "cell_type": "code",
   "execution_count": 2,
   "id": "f7b67052",
   "metadata": {},
   "outputs": [],
   "source": [
    "from pyspark.sql.functions import lit"
   ]
  },
  {
   "cell_type": "code",
   "execution_count": 3,
   "id": "8451fdab",
   "metadata": {},
   "outputs": [],
   "source": [
    "from pyspark.sql import SparkSession\n",
    "from pyspark.sql.functions import col\n",
    "from pyspark.sql.functions import explode\n",
    "\n",
    "spark = SparkSession.builder.getOrCreate()\n"
   ]
  },
  {
   "cell_type": "code",
   "execution_count": 4,
   "id": "5c3cf14c",
   "metadata": {},
   "outputs": [],
   "source": [
    "sc = spark.sparkContext"
   ]
  },
  {
   "cell_type": "markdown",
   "id": "168b0135",
   "metadata": {},
   "source": [
    "<h2> Leitura dos arquivos JSON </h2>\n",
    "<p> Os dados das tabelas foram todos armazenados em dois arquivos JSON. Um json que representa os dados da tabela Transações e outro para representar os dados da tabela contratos"
   ]
  },
  {
   "cell_type": "code",
   "execution_count": 48,
   "id": "c518539e",
   "metadata": {},
   "outputs": [],
   "source": [
    "df_transactions = spark.read.option(\"multiline\", \"true\").json(\"pagoNxt_transactions.json\")"
   ]
  },
  {
   "cell_type": "code",
   "execution_count": 49,
   "id": "c69e08da",
   "metadata": {},
   "outputs": [
    {
     "name": "stdout",
     "output_type": "stream",
     "text": [
      "+---------+-------------------+------------+--------------+\n",
      "|client_id|discount_percentage|total_amount|transaction_id|\n",
      "+---------+-------------------+------------+--------------+\n",
      "|     3545|               6.99|        3000|             1|\n",
      "|     3545|               0.45|        4500|             2|\n",
      "|     3509|                0.0|       69998|             3|\n",
      "|     3510|               null|           1|             4|\n",
      "|     4510|               40.0|          34|             5|\n",
      "+---------+-------------------+------------+--------------+\n",
      "\n"
     ]
    }
   ],
   "source": [
    "df_transactions.show()"
   ]
  },
  {
   "cell_type": "code",
   "execution_count": 50,
   "id": "5646c3c4",
   "metadata": {},
   "outputs": [],
   "source": [
    "df_transactions = df_transactions.withColumnRenamed('client_id', 'transactions_client_id')"
   ]
  },
  {
   "cell_type": "code",
   "execution_count": 51,
   "id": "862b059c",
   "metadata": {},
   "outputs": [
    {
     "name": "stdout",
     "output_type": "stream",
     "text": [
      "+----------------------+-------------------+------------+--------------+\n",
      "|transactions_client_id|discount_percentage|total_amount|transaction_id|\n",
      "+----------------------+-------------------+------------+--------------+\n",
      "|                  3545|               6.99|        3000|             1|\n",
      "|                  3545|               0.45|        4500|             2|\n",
      "|                  3509|                0.0|       69998|             3|\n",
      "|                  3510|               null|           1|             4|\n",
      "|                  4510|               40.0|          34|             5|\n",
      "+----------------------+-------------------+------------+--------------+\n",
      "\n"
     ]
    }
   ],
   "source": [
    "df_transactions.show()"
   ]
  },
  {
   "cell_type": "code",
   "execution_count": 52,
   "id": "7707eab6",
   "metadata": {},
   "outputs": [],
   "source": [
    "df_contracts = spark.read.option(\"multiline\", \"true\").json(\"pagoNxt_contracts.json\")"
   ]
  },
  {
   "cell_type": "code",
   "execution_count": 53,
   "id": "1df6fa26",
   "metadata": {},
   "outputs": [
    {
     "name": "stdout",
     "output_type": "stream",
     "text": [
      "+---------+---------------+-----------+---------+----------+\n",
      "|client_id|    client_name|contract_id|is_active|percentage|\n",
      "+---------+---------------+-----------+---------+----------+\n",
      "|     3545| Magazine Luana|          3|     true|       2.0|\n",
      "|     3545| Magazine Luana|          4|    false|      1.95|\n",
      "|     3509|Lojas Italianas|          5|     true|       1.0|\n",
      "|     3510|     Carrerfive|          6|     true|       3.0|\n",
      "+---------+---------------+-----------+---------+----------+\n",
      "\n"
     ]
    }
   ],
   "source": [
    "df_contracts.show()"
   ]
  },
  {
   "cell_type": "code",
   "execution_count": 54,
   "id": "447f54ad",
   "metadata": {},
   "outputs": [],
   "source": [
    "df_contracts_transactions = df_transactions.join(df_contracts, df_transactions.transactions_client_id == df_contracts.client_id, \"left\")"
   ]
  },
  {
   "cell_type": "code",
   "execution_count": 55,
   "id": "2d5330d9",
   "metadata": {},
   "outputs": [],
   "source": [
    "df_contracts_transactions = df_contracts_transactions.na.fill(value=0, subset='discount_percentage')"
   ]
  },
  {
   "cell_type": "code",
   "execution_count": 56,
   "id": "34a294ed",
   "metadata": {},
   "outputs": [
    {
     "name": "stdout",
     "output_type": "stream",
     "text": [
      "+----------------------+-------------------+------------+--------------+---------+---------------+-----------+---------+----------+\n",
      "|transactions_client_id|discount_percentage|total_amount|transaction_id|client_id|    client_name|contract_id|is_active|percentage|\n",
      "+----------------------+-------------------+------------+--------------+---------+---------------+-----------+---------+----------+\n",
      "|                  3545|               6.99|        3000|             1|     3545| Magazine Luana|          4|    false|      1.95|\n",
      "|                  3545|               6.99|        3000|             1|     3545| Magazine Luana|          3|     true|       2.0|\n",
      "|                  3545|               0.45|        4500|             2|     3545| Magazine Luana|          4|    false|      1.95|\n",
      "|                  3545|               0.45|        4500|             2|     3545| Magazine Luana|          3|     true|       2.0|\n",
      "|                  3509|                0.0|       69998|             3|     3509|Lojas Italianas|          5|     true|       1.0|\n",
      "|                  3510|                0.0|           1|             4|     3510|     Carrerfive|          6|     true|       3.0|\n",
      "|                  4510|               40.0|          34|             5|     null|           null|       null|     null|      null|\n",
      "+----------------------+-------------------+------------+--------------+---------+---------------+-----------+---------+----------+\n",
      "\n"
     ]
    }
   ],
   "source": [
    "df_contracts_transactions.show()"
   ]
  },
  {
   "cell_type": "code",
   "execution_count": 57,
   "id": "c90fb7cd",
   "metadata": {},
   "outputs": [],
   "source": [
    "df_contracts_transactions = df_contracts_transactions[df_contracts_transactions.is_active == \"true\"]"
   ]
  },
  {
   "cell_type": "code",
   "execution_count": 58,
   "id": "0a94714a",
   "metadata": {},
   "outputs": [],
   "source": [
    "df_contracts_transactions_valid_columns = df_contracts_transactions.select(\"discount_percentage\", \"total_amount\", \"transaction_id\", \"client_id\",    \"client_name\", \"contract_id\", \"percentage\")"
   ]
  },
  {
   "cell_type": "code",
   "execution_count": 59,
   "id": "a53fa46b",
   "metadata": {},
   "outputs": [
    {
     "name": "stdout",
     "output_type": "stream",
     "text": [
      "+-------------------+------------+--------------+---------+---------------+-----------+----------+\n",
      "|discount_percentage|total_amount|transaction_id|client_id|    client_name|contract_id|percentage|\n",
      "+-------------------+------------+--------------+---------+---------------+-----------+----------+\n",
      "|               6.99|        3000|             1|     3545| Magazine Luana|          3|       2.0|\n",
      "|               0.45|        4500|             2|     3545| Magazine Luana|          3|       2.0|\n",
      "|                0.0|       69998|             3|     3509|Lojas Italianas|          5|       1.0|\n",
      "|                0.0|           1|             4|     3510|     Carrerfive|          6|       3.0|\n",
      "+-------------------+------------+--------------+---------+---------------+-----------+----------+\n",
      "\n"
     ]
    }
   ],
   "source": [
    "df_contracts_transactions_valid_columns.show()"
   ]
  },
  {
   "cell_type": "code",
   "execution_count": 60,
   "id": "35bdea5f",
   "metadata": {},
   "outputs": [],
   "source": [
    "df_contracts_transactions_valid_columns = df_contracts_transactions_valid_columns.withColumn(\"net_value\", lit(df_contracts_transactions['total_amount'] - ((df_contracts_transactions['total_amount'] * df_contracts_transactions['discount_percentage'])/100 )))"
   ]
  },
  {
   "cell_type": "code",
   "execution_count": 61,
   "id": "fd6ec7bb",
   "metadata": {},
   "outputs": [],
   "source": [
    "df_contracts_transactions_valid_columns = df_contracts_transactions_valid_columns.withColumn(\"discount_percentage\", lit((df_contracts_transactions_valid_columns['net_value'] * df_contracts_transactions_valid_columns['percentage'])/100 ))"
   ]
  },
  {
   "cell_type": "code",
   "execution_count": 62,
   "id": "5fcc90d0",
   "metadata": {},
   "outputs": [],
   "source": [
    "df_contracts_transactions_valid_columns = df_contracts_transactions_valid_columns.withColumn(\"total_gain\", lit(df_contracts_transactions_valid_columns['net_value'] * df_contracts_transactions_valid_columns['discount_percentage']))"
   ]
  },
  {
   "cell_type": "code",
   "execution_count": 63,
   "id": "e1935812",
   "metadata": {},
   "outputs": [
    {
     "name": "stdout",
     "output_type": "stream",
     "text": [
      "+-------------------+------------+--------------+---------+---------------+-----------+----------+---------+-------------+\n",
      "|discount_percentage|total_amount|transaction_id|client_id|    client_name|contract_id|percentage|net_value|   total_gain|\n",
      "+-------------------+------------+--------------+---------+---------------+-----------+----------+---------+-------------+\n",
      "| 55.806000000000004|        3000|             1|     3545| Magazine Luana|          3|       2.0|   2790.3|  155715.4818|\n",
      "|             89.595|        4500|             2|     3545| Magazine Luana|          3|       2.0|  4479.75| 401363.20125|\n",
      "|             699.98|       69998|             3|     3509|Lojas Italianas|          5|       1.0|  69998.0|4.899720004E7|\n",
      "|               0.03|           1|             4|     3510|     Carrerfive|          6|       3.0|      1.0|         0.03|\n",
      "+-------------------+------------+--------------+---------+---------------+-----------+----------+---------+-------------+\n",
      "\n"
     ]
    }
   ],
   "source": [
    "df_contracts_transactions_valid_columns.show()"
   ]
  },
  {
   "cell_type": "markdown",
   "id": "19a2f91a",
   "metadata": {},
   "source": [
    "<p>Obtendo o ganho total da empresa Acquirer LTDA </p>"
   ]
  },
  {
   "cell_type": "code",
   "execution_count": 65,
   "id": "4ba538ab",
   "metadata": {},
   "outputs": [
    {
     "name": "stdout",
     "output_type": "stream",
     "text": [
      "+------------------------+\n",
      "|sum(discount_percentage)|\n",
      "+------------------------+\n",
      "|845.4110000000001       |\n",
      "+------------------------+\n",
      "\n"
     ]
    }
   ],
   "source": [
    "df_contracts_transactions_valid_columns.agg({'discount_percentage': 'sum'}).show(truncate=False)"
   ]
  },
  {
   "cell_type": "code",
   "execution_count": 67,
   "id": "2d74edf8",
   "metadata": {},
   "outputs": [
    {
     "name": "stdout",
     "output_type": "stream",
     "text": [
      "+---------------+------------------------+\n",
      "|client_name    |sum(discount_percentage)|\n",
      "+---------------+------------------------+\n",
      "|Carrerfive     |0.03                    |\n",
      "|Lojas Italianas|699.98                  |\n",
      "|Magazine Luana |145.401                 |\n",
      "+---------------+------------------------+\n",
      "\n"
     ]
    }
   ],
   "source": [
    "df_contracts_transactions_valid_columns.groupBy(\"client_name\").sum(\"discount_percentage\").show(truncate=False)"
   ]
  },
  {
   "cell_type": "code",
   "execution_count": null,
   "id": "f59e24f7",
   "metadata": {},
   "outputs": [],
   "source": []
  }
 ],
 "metadata": {
  "kernelspec": {
   "display_name": "Python 3",
   "language": "python",
   "name": "python3"
  },
  "language_info": {
   "codemirror_mode": {
    "name": "ipython",
    "version": 3
   },
   "file_extension": ".py",
   "mimetype": "text/x-python",
   "name": "python",
   "nbconvert_exporter": "python",
   "pygments_lexer": "ipython3",
   "version": "3.8.8"
  }
 },
 "nbformat": 4,
 "nbformat_minor": 5
}
